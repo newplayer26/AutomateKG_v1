{
 "cells": [
  {
   "cell_type": "code",
   "execution_count": 1,
   "id": "6e014819-5aee-45c9-a705-eb39e4ba1d5b",
   "metadata": {},
   "outputs": [],
   "source": [
    "import pickle\n",
    "with open(\"extracted_result.pkl\", \"rb\") as file:\n",
    "    dict = pickle.load(file)\n"
   ]
  },
  {
   "cell_type": "code",
   "execution_count": 2,
   "id": "d3a3e003-459d-4845-be88-1419fe8bf892",
   "metadata": {},
   "outputs": [
    {
     "name": "stdout",
     "output_type": "stream",
     "text": [
      "[{'start': 'quyền_và_nghĩa_vụ_người_sử_dụng_đất', 'end': 'VănBảnPhápLuật', 'type': 'liênQuanĐến', 'properties': {}}, {'start': 'nhà_nước', 'end': 'quyền_và_nghĩa_vụ_người_sử_dụng_đất', 'type': 'thựcHiệnQuyềnĐạiDiệnChủSởHữuVềĐấtĐai', 'properties': {}}, {'start': 'quốc_hội', 'end': 'quyền_và_nghĩa_vụ_người_sử_dụng_đất', 'type': 'thựcHiệnQuyềnĐạiDiệnChủSởHữuVềĐấtĐai', 'properties': {}}, {'start': 'ủy_ban_thường_vụ_quốc_hội', 'end': 'quyền_và_nghĩa_vụ_người_sử_dụng_đất', 'type': 'thựcHiệnQuyềnĐạiDiệnChủSởHữuVềĐấtĐai', 'properties': {}}, {'start': 'phòng_hộ', 'end': 'đất_rừng_sản_xuất', 'type': 'liênQuanĐến', 'properties': {}}, {'start': 'luật', 'end': 'đất_rừng_sản_xuất', 'type': 'liênQuanĐến', 'properties': {}}, {'start': 'luật', 'end': 'giám_sát_việc_thi_hành_pháp_luật_về_đất_đai', 'type': 'liênQuanĐến', 'properties': {}}, {'start': 'chính_phủ', 'end': 'nhà_nước', 'type': 'thựcHiệnQuyềnĐạiDiệnChủSởHữu', 'properties': {'thẩm_quyền': 'theo quy định của Luật'}}, {'start': 'ủy_ban_nhân_dân', 'end': 'nhà_nước', 'type': 'thựcHiệnQuyềnĐạiDiệnChủSởHữu', 'properties': {'thẩm_quyền': 'theo quy định của Luật'}}, {'start': 'nhà_nước', 'end': 'đất_rừng_sản_xuất', 'type': 'thựcHiệnQuyềnĐạiDiệnChủSởHữu', 'properties': {'thẩm_quyền': 'theo quy định của Luật'}}, {'start': 'nhà_nước', 'end': 'người_sử_dụng_đất', 'type': 'thựcHiệnQuyềnĐạiDiệnChủSởHữu', 'properties': {'thẩm_quyền': 'theo quy định của Luật'}}, {'start': 'nhà_nước', 'end': 'người_sử_dụng_đất', 'type': 'thựcHiệnChínhSách', 'properties': {'chính_sách': 'tạo điều kiện cho người trực tiếp sản xuất nông nghiệp không có đất sản xuất'}}, {'start': 'người_sử_dụng_đất', 'end': 'giấy_chứng_nhận_quyền_sử_dụng_đất', 'type': 'đượcCấpBởi', 'properties': {'quyền': 'quyền sử dụng đất, quyền sở hữu tài sản gắn liền với đất'}}, {'start': 'người_sử_dụng_đất', 'end': 'bồi_thường_hỗ_trợ_tái_định_cư', 'type': 'thựcHiện', 'properties': {'quyền': 'thực hiện bồi thường, hỗ trợ, tái định cư'}}, {'start': 'người_sử_dụng_đất', 'end': 'hướng_dẫn', 'type': 'thực_hiện', 'properties': {}}, {'start': 'người_sử_dụng_đất', 'end': 'trợ_giúp_pháp_lý', 'type': 'thực_hiện', 'properties': {}}, {'start': 'người_sử_dụng_đất', 'end': 'cơ_sở_dữ_liệu_quốc_gia_đất_đai', 'type': 'thực_hiện', 'properties': {}}, {'start': 'đồng_bào_dân_tộc_thiểu_số', 'end': 'người_sử_dụng_đất', 'type': 'thuộc', 'properties': {}}, {'start': 'nhà_nước', 'end': 'đồng_bào_dân_tộc_thiểu_số', 'type': 'cóTráchNhiệmĐốiVới', 'properties': {}}, {'start': 'văn_bản_chính_sách_hỗ_trợ_đất_đai', 'end': 'đất_đai', 'type': 'liênQuanĐến', 'properties': {}}, {'start': 'văn_bản_chính_sách_hỗ_trợ_đất_đai', 'end': 'cá_nhân', 'type': 'liênQuanĐến', 'properties': {}}, {'start': 'văn_bản_chính_sách_hỗ_trợ_đất_đai', 'end': 'vùng_đồng_bào_dân_tộc_thiểu_số_và_miền_núi', 'type': 'liênQuanĐến', 'properties': {}}, {'start': 'văn_bản_chính_sách_hỗ_trợ_đất_đai', 'end': 'quyền_và_nghĩa_vụ_hỗ_trợ_đất_đai', 'type': 'liênQuanĐến', 'properties': {}}, {'start': 'cá_nhân', 'end': 'văn_bản_chính_sách_hỗ_trợ_đất_đai', 'type': 'đượcHỗTrợBởi', 'properties': {}}, {'start': 'vùng_đồng_bào_dân_tộc_thiểu_số_và_miền_núi', 'end': 'văn_bản_chính_sách_hỗ_trợ_đất_đai', 'type': 'đượcHỗTrợBởi', 'properties': {}}, {'start': 'quyền_và_nghĩa_vụ_hỗ_trợ_đất_đai', 'end': 'cá_nhân', 'type': 'đượcÁpDụngCho', 'properties': {}}, {'start': 'quyền_và_nghĩa_vụ_hỗ_trợ_đất_đai', 'end': 'hộ_nghèo', 'type': 'đượcÁpDụngCho', 'properties': {}}, {'start': 'nhà_nước', 'end': 'đồng_bào_dân_tộc_thiểu_số', 'type': 'giao', 'properties': {'mục_đích': 'tổng diện tích đất'}}, {'start': 'nhà_nước', 'end': 'chính_sách_hỗ_trợ_đất_đai', 'type': 'hỗ_trợ', 'properties': {}}, {'start': 'chính_sách_hỗ_trợ_đất_đai', 'end': 'đồng_bào_dân_tộc_thiểu_số', 'type': 'bảo_đảm_ổn_định_cuộc_sống_cho', 'properties': {}}, {'start': 'đồng_bào_dân_tộc_thiểu_số', 'end': 'hộ_nghèo', 'type': 'thuê_đất', 'properties': {'quy_định': 'khoản 2'}}, {'start': 'đồng_bào_dân_tộc_thiểu_số', 'end': 'hộ_cận_nghèo', 'type': 'thuê_đất', 'properties': {'quy_định': 'khoản 2'}}, {'start': 'hộ_nghèo', 'end': 'vùng_đồng_bào_dân_tộc_thiểu_số', 'type': 'thuộc_diện', 'properties': {'loại': 'vùng đồng bào dân tộc thiểu số'}}, {'start': 'hộ_cận_nghèo', 'end': 'vùng_đồng_bào_dân_tộc_thiểu_số', 'type': 'thuộc_diện', 'properties': {'loại': 'vùng đồng bào dân tộc thiểu số'}}, {'start': 'chính_sách_quy_định', 'end': 'quỹ_đất', 'type': 'đượcThựcHiệnTại', 'properties': {}}, {'start': 'chính_sách_quy_định', 'end': 'cơ_quan', 'type': 'đượcThựcHiệnTại', 'properties': {}}, {'start': 'chính_sách_quy_định', 'end': 'tổ_chức', 'type': 'đượcThựcHiệnTại', 'properties': {}}, {'start': 'quỹ_đất', 'end': 'cơ_quan', 'type': 'thuộc', 'properties': {}}, {'start': 'quỹ_đất', 'end': 'tổ_chức', 'type': 'thuộc', 'properties': {}}, {'start': 'quỹ_đất', 'end': 'nhà_nước', 'type': 'thuộc', 'properties': {}}, {'start': 'quỹ_đất_thu_hồi', 'end': 'quỹ_đất', 'type': 'thuộc', 'properties': {}}, {'start': 'ủy_ban_nhân_dân', 'end': 'địa_phương', 'type': 'quyếtĐịnh', 'properties': {}}, {'start': 'ủy_ban_nhân_dân', 'end': 'cá_nhân', 'type': 'thựcHiệnChínhSách', 'properties': {}}, {'start': 'ủy_ban_nhân_dân', 'end': 'dân_tộc_thiểu_số', 'type': 'thựcHiệnChínhSách', 'properties': {}}, {'start': 'nhân_dân_cấp_tỉnh', 'end': 'hội_đồng_nhân_dân_cùng_cấp', 'type': 'trình', 'properties': {}}, {'start': 'hội_đồng_nhân_dân_cùng_cấp', 'end': 'chính_sách_địa_phương_về_đất_đai', 'type': 'banHành', 'properties': {}}, {'start': 'chính_sách_địa_phương_về_đất_đai', 'end': 'đồng_bào_dân_tộc_thiểu_số', 'type': 'đốiVới', 'properties': {}}, {'start': 'chính_sách_địa_phương_về_đất_đai', 'end': 'đất_đai', 'type': 'đốiVới', 'properties': {}}, {'start': 'hằng_năm', 'end': 'ủy_ban_nhân_dân_cấp_xã', 'type': 'thựcHiệnBởi', 'properties': {}}, {'start': 'ủy_ban_nhân_dân_cấp_xã', 'end': 'ủy_ban_nhân_dân_cấp_huyện', 'type': 'ràSoát', 'properties': {}}, {'start': 'ủy_ban_nhân_dân_cấp_xã', 'end': 'ủy_ban_nhân_dân_cấp_huyện', 'type': 'báoCáo', 'properties': {}}, {'start': 'tộc_thiểu', 'end': 'nhà_nước', 'type': 'đượcGiaoĐấtTheo', 'properties': {}}, {'start': 'đồng_bào_dân_tộc_thiểu_số', 'end': 'luật', 'type': 'đượcQuyĐịnhTại', 'properties': {}}, {'start': 'bồi_thường_hỗ_trợ_tái_định_cư', 'end': 'luật', 'type': 'thựcHiệnTheo', 'properties': {}}, {'start': 'bồi_thường_hỗ_trợ_tái_định_cư', 'end': 'đồng_bào_dân_tộc_thiểu_số', 'type': 'thuộcChínhSáchVề', 'properties': {}}, {'start': 'bồi_thường_hỗ_trợ_tái_định_cư', 'end': 'luật', 'type': 'thuHồiĐấtTheo', 'properties': {}}, {'start': 'bồi_thường_hỗ_trợ_tái_định_cư', 'end': 'quyền_sở_hữu_tài_sản_gắn_liền_với_đất', 'type': 'thuHồiĐấtTheo', 'properties': {}}, {'start': 'ngân_sách_nhà_nước', 'end': 'đồng_bào_dân_tộc_thiểu_số', 'type': 'đượcLiênQuanĐến', 'properties': {}}, {'start': 'nguồn_vốn_hợp_pháp', 'end': 'đồng_bào_dân_tộc_thiểu_số', 'type': 'đượcLiênQuanĐến', 'properties': {}}, {'start': 'chính_phủ', 'end': 'đất', 'type': 'quyĐịnh', 'properties': {}}, {'start': 'Nhà_nước', 'end': 'quyền_sử_dụng_đất', 'type': 'bảoHộ', 'properties': {}}, {'start': 'Nhà_nước', 'end': 'tài_sản', 'type': 'bảoHộ', 'properties': {}}, {'start': 'Nhà_nước', 'end': 'đất', 'type': 'khôngThừaNhận', 'properties': {}}, {'start': 'nhà_nước_việt_nam_dân_chủ_cộng_hoà', 'end': 'nhà_nước_cộng_hòa_xã_hội_chủ_nghĩa_việt_nam', 'type': 'đượcChínhSáchĐấtĐaiCủa', 'properties': {}}, {'start': 'chính_phủ_cách_mạng_lâm_thời_cộng_hòa_miền_nam_việt_nam', 'end': 'nhà_nước_cộng_hòa_xã_hội_chủ_nghĩa_việt_nam', 'type': 'đượcChínhSáchĐấtĐaiCủa', 'properties': {}}, {'start': 'điều_18', 'end': 'nhà_nước_việt_nam_dân_chủ_cộng_hoà', 'type': 'đượcThựcHiệnBởi', 'properties': {}}, {'start': 'cung_cấp_thông_tin_đất_đai', 'end': 'hệ_thống_thông_tin_quốc_gia_về_đất_đai', 'type': 'liênQuanĐến', 'properties': {}}, {'start': 'cung_cấp_thông_tin_đất_đai', 'end': 'người_sử_dụng_đất', 'type': 'liênQuanĐến', 'properties': {}}, {'start': 'cung_cấp_thông_tin_đất_đai', 'end': 'tổ_chức', 'type': 'liênQuanĐến', 'properties': {}}, {'start': 'cung_cấp_thông_tin_đất_đai', 'end': 'cá_nhân', 'type': 'liênQuanĐến', 'properties': {}}, {'start': 'cung_cấp_thông_tin_đất_đai', 'end': 'pháp_luật', 'type': 'liênQuanĐến', 'properties': {}}, {'start': 'đất_đai', 'end': 'vùng', 'type': 'thuộc', 'properties': {}}, {'start': 'người_sử_dụng_đất', 'end': 'quyền_và_nghĩa_vụ', 'type': 'có', 'properties': {}}, {'start': 'người_sử_dụng_đất', 'end': 'hoạt_động_liên_quan_đến_đất_đai', 'type': 'tham_gia', 'properties': {}}, {'start': 'tổ_chức', 'end': 'người_sử_dụng_đất', 'type': 'là', 'properties': {}}, {'start': 'cá_nhân', 'end': 'người_sử_dụng_đất', 'type': 'là', 'properties': {}}, {'start': 'văn_bản_pháp_luật', 'end': 'đất_đai', 'type': 'liên_quan', 'properties': {}}, {'start': 'văn_bản_pháp_luật', 'end': 'người_sử_dụng_đất', 'type': 'liên_quan', 'properties': {}}, {'start': 'văn_bản_pháp_luật', 'end': 'quyền_và_nghĩa_vụ', 'type': 'liên_quan', 'properties': {}}, {'start': 'văn_bản_pháp_luật', 'end': 'hoạt_động_liên_quan_đến_đất_đai', 'type': 'liên_quan', 'properties': {}}, {'start': 'văn_bản_pháp_luật', 'end': 'cơ_quan_nhà_nước', 'type': 'liên_quan', 'properties': {}}, {'start': 'quyền_và_nghĩa_vụ', 'end': 'người_sử_dụng_đất', 'type': 'liên_quan', 'properties': {}}, {'start': 'hoạt_động_liên_quan_đến_đất_đai', 'end': 'người_sử_dụng_đất', 'type': 'liên_quan', 'properties': {}}, {'start': 'mặt_trận_tổ_quốc_việt_nam', 'end': 'vai_trò', 'type': 'có', 'properties': {}}, {'start': 'mặt_trận_tổ_quốc_việt_nam', 'end': 'trách_nhiệm', 'type': 'có', 'properties': {}}, {'start': 'ủy_ban_trung_ương_mặt_trận_tổ_quốc_việt_nam', 'end': 'pháp_luật_về_đất_đai', 'type': 'thamGiaXâyDựng', 'properties': {}}, {'start': 'pháp_luật_về_đất_đai', 'end': 'đất_đai', 'type': 'liênQuanĐến', 'properties': {}}, {'start': 'pháp_luật_về_đất_đai', 'end': 'dự_thảo_quy_hoạch', 'type': 'liênQuanĐến', 'properties': {}}, {'start': 'pháp_luật_về_đất_đai', 'end': 'kế_hoạch_sử_dụng_đất_cùng_cấp', 'type': 'liênQuanĐến', 'properties': {}}, {'start': 'pháp_luật_về_đất_đai', 'end': 'dự_án_sử_dụng_đất', 'type': 'liênQuanĐến', 'properties': {}}, {'start': 'dự_án_sử_dụng_đất', 'end': 'hội_đồng_nhân_dân', 'type': 'do', 'properties': {}}, {'start': 'dự_án_sử_dụng_đất', 'end': 'ủy_ban_nhân_dân_cùng_cấp', 'type': 'do', 'properties': {}}, {'start': 'người_sử_dụng_đất', 'end': 'thu_hồi_đất', 'type': 'thamGiaÝKiếnVề', 'properties': {}}, {'start': 'người_sử_dụng_đất', 'end': 'phương_án_bồi_thường', 'type': 'thamGiaÝKiếnVề', 'properties': {}}, {'start': 'người_sử_dụng_đất', 'end': 'hỗ_trợ_tái_định_cư', 'type': 'thamGiaÝKiếnVề', 'properties': {}}, {'start': 'người_sử_dụng_đất', 'end': 'cưỡng_chế_thu_hồi_đất', 'type': 'thamGiaÝKiếnVề', 'properties': {}}, {'start': 'người_sử_dụng_đất', 'end': 'giám_sát_bảng_giá_đất', 'type': 'thamGiaÝKiếnVề', 'properties': {}}, {'start': 'người_sử_dụng_đất', 'end': 'thực_hiện_bảng_giá_đất', 'type': 'thamGiaÝKiếnVề', 'properties': {}}, {'start': 'người_sử_dụng_đất', 'end': 'tranh_chấp_đất_đai', 'type': 'thamGiaHòaGiải', 'properties': {}}, {'start': 'quyền_và_nghĩa_vụ', 'end': 'đất_đai', 'type': 'liênQuanĐến', 'properties': {}}, {'start': 'hoạt_động_liên_quan_đến_đất_đai', 'end': 'đất_đai', 'type': 'liênQuanĐến', 'properties': {}}, {'start': 'chủ_sở_hữu_đất_đai', 'end': 'nhà_nước', 'type': 'là', 'properties': {}}, {'start': 'quản_lý_nhà_nước_về_đất_đai', 'end': 'văn_bản_quy_phạm_pháp_luật', 'type': 'baoGồm', 'properties': {}}, {'start': 'quản_lý_nhà_nước_về_đất_đai', 'end': 'tuyên_truyền_phổ_biến', 'type': 'baoGồm', 'properties': {}}, {'start': 'quản_lý_nhà_nước_về_đất_đai', 'end': 'giáo_dục', 'type': 'baoGồm', 'properties': {}}, {'start': 'quản_lý_nhà_nước_về_đất_đai', 'end': 'đào_tạo', 'type': 'baoGồm', 'properties': {}}, {'start': 'quản_lý_nhà_nước_về_đất_đai', 'end': 'nghiên_cứu_khoa_học', 'type': 'baoGồm', 'properties': {}}, {'start': 'quản_lý_nhà_nước_về_đất_đai', 'end': 'phát_triển_công_nghệ', 'type': 'baoGồm', 'properties': {}}, {'start': 'quản_lý_nhà_nước_về_đất_đai', 'end': 'hợp_tác_quốc_tế', 'type': 'baoGồm', 'properties': {}}, {'start': 'quản_lý_nhà_nước_về_đất_đai', 'end': 'xác_định_địa_giới', 'type': 'baoGồm', 'properties': {}}, {'start': 'quản_lý_nhà_nước_về_đất_đai', 'end': 'lập_quản_lý_hồ_sơ_địa_giới', 'type': 'baoGồm', 'properties': {}}, {'start': 'quản_lý_nhà_nước_về_đất_đai', 'end': 'đo_đạc', 'type': 'baoGồm', 'properties': {}}, {'start': 'quản_lý_nhà_nước_về_đất_đai', 'end': 'chỉnh_lý', 'type': 'baoGồm', 'properties': {}}, {'start': 'quản_lý_nhà_nước_về_đất_đai', 'end': 'lập_bản_đồ_địa_chính', 'type': 'baoGồm', 'properties': {}}, {'start': 'quản_lý_nhà_nước_về_đất_đai', 'end': 'bản_đồ_hiện_trạng_sử_dụng_đất', 'type': 'baoGồm', 'properties': {}}, {'start': 'quản_lý_nhà_nước_về_đất_đai', 'end': 'bản_đồ_quy_hoạch_sử', 'type': 'baoGồm', 'properties': {}}, {'start': 'Chính_phủ', 'end': 'ĐấtĐai', 'type': 'thốngNhấtQuảnLý', 'properties': {'phạm_vi': 'cả_nước'}}, {'start': 'Thủ_tướng_Chính_phủ', 'end': 'ĐấtĐai', 'type': 'thựcHiệnNhiệmVụ', 'properties': {}}, {'start': 'Bộ_Tài_nguyên_và_Môi_trường', 'end': 'Chính_phủ', 'type': 'làCơQuanĐầuMốiGiúp', 'properties': {}}, {'start': 'chính_phủ', 'end': 'đất_đai', 'type': 'thựcHiệnQuảnLýNhàNướcVềĐấtĐai', 'properties': {}}, {'start': 'bộ', 'end': 'chính_phủ', 'type': 'cóTráchNhiệmGiúp', 'properties': {}}, {'start': 'thủ_tướng_chính_phủ', 'end': 'chính_phủ', 'type': 'cóTráchNhiệmGiúp', 'properties': {}}, {'start': 'chính_quyền_địa_phương', 'end': 'đất_đai', 'type': 'cóTráchNhiệmQuảnLý', 'properties': {}}, {'start': 'hội_đồng_nhân_dân', 'end': 'đất_đai', 'type': 'thựcHiệnNhiệmVụ', 'properties': {}}, {'start': 'ủy_ban_nhân_dân', 'end': 'đất_đai', 'type': 'thựcHiệnNhiệmVụ', 'properties': {}}, {'start': 'luật', 'end': 'hội_đồng_nhân_dân', 'type': 'đượcBanHànhBởi', 'properties': {}}, {'start': 'luật', 'end': 'ủy_ban_nhân_dân_cấp_xã', 'type': 'đượcBanHànhBởi', 'properties': {}}, {'start': 'hội_đồng_nhân_dân', 'end': 'ủy_ban_nhân_dân_cấp_xã', 'type': 'đượcBanHànhBởi', 'properties': {}}, {'start': 'hệ_thống_cơ_quan_quản_lý_đất_đai', 'end': 'trung_ương', 'type': 'tổChứcTại', 'properties': {}}, {'start': 'hệ_thống_cơ_quan_quản_lý_đất_đai', 'end': 'địa_phương', 'type': 'tổChứcTại', 'properties': {}}, {'start': 'bộ_tài_nguyên_môi_trường', 'end': 'đất_đai', 'type': 'quảnLýNhàNướcVề', 'properties': {'cấp': 'trung_ương'}}, {'start': 'cơ_quan_quản_lý_đất_đai_địa_phương', 'end': 'cấp_tỉnh', 'type': 'đượcThànhLậpTại', 'properties': {}}, {'start': 'cơ_quan_quản_lý_đất_đai_địa_phương', 'end': 'cấp_huyện', 'type': 'đượcThànhLậpTại', 'properties': {}}, {'start': 'tổ_chức_dịch_vụ_công_đất_đai', 'end': 'đất_đai', 'type': 'thuộc', 'properties': {}}, {'start': 'tổ_chức_đăng_ký_đất_đai', 'end': 'Chính_phủ', 'type': 'hoạt_động_theo', 'properties': {}}, {'start': 'tổ_chức_phát_triển_quỹ_đất', 'end': 'Chính_phủ', 'type': 'hoạt_động_theo', 'properties': {}}, {'start': 'tổ_chức_dịch_vụ_công', 'end': 'Chính_phủ', 'type': 'hoạt_động_theo', 'properties': {}}, {'start': 'ủy_ban_nhân_dân_cấp_xã', 'end': 'luật_cán_bộ_công_chức', 'type': 'cóCôngChứcLàmCôngTácĐịaChínhTheo', 'properties': {}}, {'start': 'công_chức_làm_công_tác_địa_chính', 'end': 'ủy_ban_nhân_dân_cấp_xã', 'type': 'thuộc', 'properties': {}}, {'start': 'công_dân', 'end': 'đất_đai', 'type': 'cóQuyền', 'properties': {'quyền': 'tham gia'}}, {'start': 'ThủTụcHànhChínhVềĐấtĐai', 'end': 'ĐấtĐai', 'type': 'thuộc', 'properties': {}}, {'start': 'VănBảnQuyPhạmPhápLuậtVềĐấtĐai', 'end': 'ĐấtĐai', 'type': 'thuộc', 'properties': {}}, {'start': 'ThôngTinĐấtĐaiKhác', 'end': 'ĐấtĐai', 'type': 'thuộc', 'properties': {}}, {'start': 'Luật', 'end': 'TiếpCậnThôngTin', 'type': 'liênQuan', 'properties': {}}, {'start': 'Luật', 'end': 'QuyĐịnhKhác', 'type': 'liênQuan', 'properties': {}}, {'start': 'NghĩaVụCủaCôngDânĐốiVớiĐấtĐai', 'end': 'CôngDân', 'type': 'ápDụngCho', 'properties': {}}, {'start': 'NgườiSửDụngĐất', 'end': 'VănBảnPhápLuật', 'type': 'có', 'properties': {}}, {'start': 'NgườiSửDụngĐất', 'end': 'QuyềnVàNghĩaVụ', 'type': 'cóQuyền', 'properties': {}}, {'start': 'người_sử_dụng_đất', 'end': 'quyền_và_nghĩa_vụ', 'type': 'thựcHiện', 'properties': {}}, {'start': 'người_sử_dụng_đất', 'end': 'quyền_và_nghĩa_vụ', 'type': 'có', 'properties': {}}, {'start': 'cá_nhân', 'end': 'quyền_và_nghĩa_vụ', 'type': 'có', 'properties': {'theo_quy_định': 'Luật này'}}, {'start': 'tổ_chức_kinh_tế', 'end': 'quyền_và_nghĩa_vụ', 'type': 'có', 'properties': {'theo_quy_định': 'Luật này'}}, {'start': 'nhóm_người_sử_dụng_đất', 'end': 'quyền_sử_dụng_đất', 'type': 'phân_chia', 'properties': {'theo_phần': 'từng_thành_viên'}}, {'start': 'nhóm_người_sử_dụng_đất', 'end': 'quyền_và_nghĩa_vụ', 'type': 'thực_hiện', 'properties': {'theo_quy_định': 'Luật này'}}, {'start': 'nhóm_người_sử_dụng_đất', 'end': 'thực_hiện', 'type': 'không_phân_chia', 'properties': {'quyền_và_nghĩa_vụ': 'cùng_nhau_hoặc_ủy_quyền'}}, {'start': 'điều_28', 'end': 'cá_nhân', 'type': 'NhậnQuyềnSửDụngĐất', 'properties': {}}, {'start': 'điều_28', 'end': 'tổ_chức_kinh_tế', 'type': 'NhậnQuyềnSửDụngĐất', 'properties': {}}, {'start': 'điều_28', 'end': 'tổ_chức_kinh_tế_vốn_đầu_tư_nước_ngoài', 'type': 'NhậnQuyềnSửDụngĐất', 'properties': {}}, {'start': 'điều_28', 'end': 'người_gốc_việt_nam_định_cư_ở_nước_ngoài', 'type': 'NhậnQuyềnSửDụngĐất', 'properties': {}}, {'start': 'Chính_phủ', 'end': 'ĐấtĐai', 'type': 'quảnLý', 'properties': {}}, {'start': 'Luật', 'end': 'Chính_phủ', 'type': 'quyĐịnh', 'properties': {}}, {'start': 'Vốn_Đầu_Tư_Nước_Ngoài', 'end': 'ĐấtĐai', 'type': 'nhậnChuyểnNhượng', 'properties': {}}, {'start': 'Tổ_Chức_Kinh_Tế', 'end': 'ĐấtĐai', 'type': 'nhậnGópVốn', 'properties': {}}, {'start': 'Tổ_Chức_Kinh_Tế_Có_Vốn_Đầu_Tư_Nước_Ngoài', 'end': 'ĐấtĐai', 'type': 'nhậnGópVốn', 'properties': {}}, {'start': 'Tổ_Chức_Trong_Nước', 'end': 'ĐấtĐai', 'type': 'nhậnTặng', 'properties': {}}, {'start': 'Cá_Nhân', 'end': 'ĐấtĐai', 'type': 'nhậnTặng', 'properties': {}}, {'start': 'Cộng_Đồng_Dân_Cư', 'end': 'ĐấtĐai', 'type': 'nhậnTặng', 'properties': {}}, {'start': 'Tổ_Chức_Trong_Nước', 'end': 'ĐấtĐai', 'type': 'nhậnThừaKế', 'properties': {}}, {'start': 'Cá_Nhân', 'end': 'ĐấtĐai', 'type': 'nhậnThừaKế', 'properties': {}}, {'start': 'Cộng_Đồng_Dân_Cư', 'end': 'ĐấtĐai', 'type': 'nhậnThừaKế', 'properties': {}}, {'start': 'Người_Gốc_Việt_Nam_Định_Cư_Ở_Nước_Ngoài', 'end': 'sửDụng', 'type': 'đượcPhép', 'properties': {'quyền': 'quyền sử dụng đất'}}, {'start': 'ép_nhập_cảnh', 'end': 'Việt_Nam', 'type': 'liên_quan_đến', 'properties': {}}, {'start': 'mua', 'end': 'ĐấtĐai', 'type': 'liên_quan_đến', 'properties': {}}, {'start': 'thuê_mua_nhà_ở', 'end': 'ĐấtĐai', 'type': 'liên_quan_đến', 'properties': {}}, {'start': 'thuê_mua_nhà_ở', 'end': 'quyền_sử_dụng_đất_ở', 'type': 'liên_quan_đến', 'properties': {}}, {'start': 'thuê_mua_nhà_ở', 'end': 'dự_án_phát_triển_nhà_ở', 'type': 'liên_quan_đến', 'properties': {}}, {'start': 'thừa_kế_quyền_sử_dụng_đất_ở', 'end': 'QuyềnVàNghĩaVụ', 'type': 'liên_quan_đến', 'properties': {}}, {'start': 'thừa_kế_quyền_sử_dụng_đất_ở', 'end': 'loại_đất', 'type': 'liên_quan_đến', 'properties': {}}, {'start': 'thừa_kế_quyền_sử_dụng_đất_ở', 'end': 'thửa_đất', 'type': 'liên_quan_đến', 'properties': {}}, {'start': 'thừa_kế_quyền_sử_dụng_đất_ở', 'end': 'nhà_ở', 'type': 'liên_quan_đến', 'properties': {}}, {'start': 'tặng_cho_nhà_ở', 'end': 'HoạtĐộngLiênQuanĐếnĐấtĐai', 'type': 'liên_quan_đến', 'properties': {}}, {'start': 'tặng_cho_nhà_ở', 'end': 'quyền_sử_dụng_đất_ở', 'type': 'liên_quan_đến', 'properties': {}}, {'start': 'tặng_cho_nhà_ở', 'end': 'người_thừa_kế', 'type': 'liên_quan_đến', 'properties': {}}, {'start': 'người_thừa_kế', 'end': 'tổ_chức_trong_nước', 'type': 'thuộc', 'properties': {}}, {'start': 'người_thừa_kế', 'end': 'cá_nhân', 'type': 'thuộc', 'properties': {}}, {'start': 'người_thừa_kế', 'end': 'cộng_đồng_dân_cư', 'type': 'thuộc', 'properties': {}}, {'start': 'người_thừa_kế', 'end': 'tổ_chức_tôn_giáo', 'type': 'thuộc', 'properties': {}}, {'start': 'người_thừa_kế', 'end': 'tổ_chức_tôn_giáo_trực_thuộc', 'type': 'thuộc', 'properties': {}}, {'start': 'nhà_nước', 'end': 'văn_bản_pháp_luật', 'type': 'cóThẩmQuyềnVề', 'properties': {}}]\n",
      "287\n"
     ]
    }
   ],
   "source": [
    "print(dict[\"relationships\"])\n",
    "nodes = dict[\"nodes\"]\n",
    "relationships = dict[\"relationships\"]\n",
    "print(len(nodes))\n"
   ]
  },
  {
   "cell_type": "code",
   "execution_count": 3,
   "id": "a9cfb977-3e19-4caa-9533-903c7620d26b",
   "metadata": {},
   "outputs": [
    {
     "name": "stdout",
     "output_type": "stream",
     "text": [
      "['ĐấtĐai', 'HoạtĐộngLiênQuanĐếnĐấtĐai', 'QuyềnVàNghĩaVụ', 'ChủSởHữuĐấtĐai', 'CơQuanNhàNước', 'Vùng', 'VănBảnPhápLuật', 'NgườiSửDụngĐất']\n"
     ]
    }
   ],
   "source": [
    "label = set()\n",
    "for node in dict[\"nodes\"]:\n",
    "    label.add(node[\"label\"])\n",
    "print(list(label))"
   ]
  },
  {
   "cell_type": "code",
   "execution_count": 4,
   "id": "80d7b1af-67b1-4cc7-a9cf-2e5a337a2917",
   "metadata": {},
   "outputs": [],
   "source": [
    "def correct_key(key):\n",
    "    if '_' in key:\n",
    "        return key\n",
    "    else:\n",
    "        return '_'.join(key.split())\n",
    "\n",
    "def correct_value(value):\n",
    "    if ' ' in value:\n",
    "        return ''.join(word.capitalize() for word in value.split())\n",
    "    else:\n",
    "        return value\n",
    "\n",
    "# Correct keys in nodes list\n",
    "for node in nodes:\n",
    "    node['name'] = correct_key(node['name'])\n",
    "    node['label'] = correct_value(node['label'])\n",
    "    node['properties'] = {correct_key(k): v for k, v in node['properties'].items()}\n",
    "\n",
    "# Correct keys in relationships list\n",
    "for rel in relationships:\n",
    "    rel['start'] = correct_key(rel['start'])\n",
    "    rel['end'] = correct_key(rel['end'])\n",
    "    rel['type'] = correct_value(rel['type'])\n",
    "    rel['properties'] = {correct_key(k): v for k, v in rel['properties'].items()}"
   ]
  },
  {
   "cell_type": "code",
   "execution_count": 5,
   "id": "130883de-e352-4254-8f25-5b61e788f4a9",
   "metadata": {},
   "outputs": [
    {
     "name": "stdout",
     "output_type": "stream",
     "text": [
      "CSV files generated: nodes.csv and relationships.csv\n"
     ]
    }
   ],
   "source": [
    "# Write nodes to CSV file\n",
    "with open('nodes.csv', 'w', encoding='utf-8') as file:\n",
    "    # Get all unique property keys from the nodes\n",
    "    property_keys = set()\n",
    "    for node in nodes:\n",
    "        property_keys.update(node['properties'].keys())\n",
    "\n",
    "    # Write the header row with property keys\n",
    "    header = ':ID,name,:LABEL,' + ','.join(property_keys)\n",
    "    file.write(header + '\\n')\n",
    "\n",
    "    # Write node rows with properties\n",
    "    for node in nodes:\n",
    "        node_id = node['name']\n",
    "        name = node['name']\n",
    "        label = node['label']\n",
    "        properties = node['properties']\n",
    "\n",
    "        # Write property values or empty strings if not present\n",
    "        property_values = [str(properties.get(key, '')) for key in property_keys]\n",
    "        row = f\"{node_id},{name},{label},\" + ','.join(property_values)\n",
    "        file.write(row + '\\n')\n",
    "\n",
    "# Write relationships to CSV file\n",
    "with open('relationships.csv', 'w', encoding='utf-8') as file:\n",
    "    # Get all unique property keys from the relationships\n",
    "    property_keys = set()\n",
    "    for rel in relationships:\n",
    "        property_keys.update(rel['properties'].keys())\n",
    "\n",
    "    # Write the header row with property keys\n",
    "    header = ':START_ID,:END_ID,:TYPE,' + ','.join(property_keys)\n",
    "    file.write(header + '\\n')\n",
    "\n",
    "    # Write relationship rows with properties\n",
    "    for rel in relationships:\n",
    "        start = rel['start']\n",
    "        end = rel['end']\n",
    "        rel_type = rel['type']\n",
    "        properties = rel['properties']\n",
    "\n",
    "        # Write property values or empty strings if not present\n",
    "        property_values = [str(properties.get(key, '')) for key in property_keys]\n",
    "        row = f\"{start},{end},{rel_type},\" + ','.join(property_values)\n",
    "        file.write(row + '\\n')\n",
    "\n",
    "print(\"CSV files generated: nodes.csv and relationships.csv\")"
   ]
  },
  {
   "cell_type": "code",
   "execution_count": 6,
   "id": "57474278-e615-4e69-9f8e-2704622cc3fb",
   "metadata": {},
   "outputs": [],
   "source": [
    "node_cyphers = []\n",
    "for node in nodes:\n",
    "    name = node['name']\n",
    "    label = node['label']\n",
    "    properties = node['properties']\n",
    "\n",
    "    cypher = f\"CREATE (:{label} {{name: '{name}'\"\n",
    "    for key, value in properties.items():\n",
    "        if value is not None:\n",
    "            cypher += f\", {key}: '{value}'\"\n",
    "    cypher += \"})\"\n",
    "\n",
    "    node_cyphers.append(cypher)"
   ]
  },
  {
   "cell_type": "code",
   "execution_count": 7,
   "id": "a67bcb76-d2b2-447a-8c5b-69efef5d3d7f",
   "metadata": {},
   "outputs": [],
   "source": [
    "rel_cyphers = []\n",
    "for rel in dict[\"relationships\"]:\n",
    "    start = rel['start']\n",
    "    end = rel['end']\n",
    "    rel_type = rel['type']\n",
    "    properties = rel['properties']\n",
    "\n",
    "    cypher = f\"MATCH (a {{name: '{start}'}}) \\nMATCH(b {{name: '{end}'}}) \\nCREATE (a)-[:{rel_type}\"\n",
    "    if properties:\n",
    "        cypher += \" {\"\n",
    "        for key, value in properties.items():\n",
    "            cypher += f\"{key}: '{value}', \"\n",
    "        cypher = cypher[:-2]  # Remove the trailing comma and space\n",
    "        cypher += \"}\"\n",
    "    cypher += \"]->(b)\"\n",
    "\n",
    "    rel_cyphers.append(cypher)"
   ]
  },
  {
   "cell_type": "code",
   "execution_count": 8,
   "id": "db8b94b2-e84b-49b9-899d-8abb2dab0a01",
   "metadata": {},
   "outputs": [
    {
     "name": "stdout",
     "output_type": "stream",
     "text": [
      "{\"MATCH (a {name: 'chính_quyền_địa_phương'}) \\nMATCH(b {name: 'đất_đai'}) \\nCREATE (a)-[:cóTráchNhiệmQuảnLý]->(b)\", \"MATCH (a {name: 'hệ_thống_cơ_quan_quản_lý_đất_đai'}) \\nMATCH(b {name: 'trung_ương'}) \\nCREATE (a)-[:tổChứcTại]->(b)\", \"MATCH (a {name: 'mua'}) \\nMATCH(b {name: 'ĐấtĐai'}) \\nCREATE (a)-[:liên_quan_đến]->(b)\", \"MATCH (a {name: 'Luật'}) \\nMATCH(b {name: 'QuyĐịnhKhác'}) \\nCREATE (a)-[:liênQuan]->(b)\", \"MATCH (a {name: 'người_sử_dụng_đất'}) \\nMATCH(b {name: 'thu_hồi_đất'}) \\nCREATE (a)-[:thamGiaÝKiếnVề]->(b)\", \"MATCH (a {name: 'Chính_phủ'}) \\nMATCH(b {name: 'ĐấtĐai'}) \\nCREATE (a)-[:thốngNhấtQuảnLý {phạm_vi: 'cả_nước'}]->(b)\", \"MATCH (a {name: 'người_sử_dụng_đất'}) \\nMATCH(b {name: 'bồi_thường_hỗ_trợ_tái_định_cư'}) \\nCREATE (a)-[:thựcHiện {quyền: 'thực hiện bồi thường, hỗ trợ, tái định cư'}]->(b)\", \"MATCH (a {name: 'quỹ_đất'}) \\nMATCH(b {name: 'nhà_nước'}) \\nCREATE (a)-[:thuộc]->(b)\", \"MATCH (a {name: 'văn_bản_pháp_luật'}) \\nMATCH(b {name: 'quyền_và_nghĩa_vụ'}) \\nCREATE (a)-[:liên_quan]->(b)\", \"MATCH (a {name: 'điều_28'}) \\nMATCH(b {name: 'cá_nhân'}) \\nCREATE (a)-[:NhậnQuyềnSửDụngĐất]->(b)\", \"MATCH (a {name: 'thuê_mua_nhà_ở'}) \\nMATCH(b {name: 'dự_án_phát_triển_nhà_ở'}) \\nCREATE (a)-[:liên_quan_đến]->(b)\", \"MATCH (a {name: 'thủ_tướng_chính_phủ'}) \\nMATCH(b {name: 'chính_phủ'}) \\nCREATE (a)-[:cóTráchNhiệmGiúp]->(b)\", \"MATCH (a {name: 'pháp_luật_về_đất_đai'}) \\nMATCH(b {name: 'đất_đai'}) \\nCREATE (a)-[:liênQuanĐến]->(b)\", \"MATCH (a {name: 'dự_án_sử_dụng_đất'}) \\nMATCH(b {name: 'hội_đồng_nhân_dân'}) \\nCREATE (a)-[:do]->(b)\", \"MATCH (a {name: 'người_sử_dụng_đất'}) \\nMATCH(b {name: 'cơ_sở_dữ_liệu_quốc_gia_đất_đai'}) \\nCREATE (a)-[:thực_hiện]->(b)\", \"MATCH (a {name: 'Cá_Nhân'}) \\nMATCH(b {name: 'ĐấtĐai'}) \\nCREATE (a)-[:nhậnThừaKế]->(b)\", \"MATCH (a {name: 'ủy_ban_nhân_dân_cấp_xã'}) \\nMATCH(b {name: 'ủy_ban_nhân_dân_cấp_huyện'}) \\nCREATE (a)-[:báoCáo]->(b)\", \"MATCH (a {name: 'bộ'}) \\nMATCH(b {name: 'chính_phủ'}) \\nCREATE (a)-[:cóTráchNhiệmGiúp]->(b)\", \"MATCH (a {name: 'quyền_và_nghĩa_vụ'}) \\nMATCH(b {name: 'người_sử_dụng_đất'}) \\nCREATE (a)-[:liên_quan]->(b)\", \"MATCH (a {name: 'người_sử_dụng_đất'}) \\nMATCH(b {name: 'trợ_giúp_pháp_lý'}) \\nCREATE (a)-[:thực_hiện]->(b)\", \"MATCH (a {name: 'quản_lý_nhà_nước_về_đất_đai'}) \\nMATCH(b {name: 'văn_bản_quy_phạm_pháp_luật'}) \\nCREATE (a)-[:baoGồm]->(b)\", \"MATCH (a {name: 'nguồn_vốn_hợp_pháp'}) \\nMATCH(b {name: 'đồng_bào_dân_tộc_thiểu_số'}) \\nCREATE (a)-[:đượcLiênQuanĐến]->(b)\", \"MATCH (a {name: 'chính_phủ_cách_mạng_lâm_thời_cộng_hòa_miền_nam_việt_nam'}) \\nMATCH(b {name: 'nhà_nước_cộng_hòa_xã_hội_chủ_nghĩa_việt_nam'}) \\nCREATE (a)-[:đượcChínhSáchĐấtĐaiCủa]->(b)\", \"MATCH (a {name: 'Người_Gốc_Việt_Nam_Định_Cư_Ở_Nước_Ngoài'}) \\nMATCH(b {name: 'sửDụng'}) \\nCREATE (a)-[:đượcPhép {quyền: 'quyền sử dụng đất'}]->(b)\", \"MATCH (a {name: 'người_sử_dụng_đất'}) \\nMATCH(b {name: 'giấy_chứng_nhận_quyền_sử_dụng_đất'}) \\nCREATE (a)-[:đượcCấpBởi {quyền: 'quyền sử dụng đất, quyền sở hữu tài sản gắn liền với đất'}]->(b)\", \"MATCH (a {name: 'thừa_kế_quyền_sử_dụng_đất_ở'}) \\nMATCH(b {name: 'loại_đất'}) \\nCREATE (a)-[:liên_quan_đến]->(b)\", \"MATCH (a {name: 'chính_sách_hỗ_trợ_đất_đai'}) \\nMATCH(b {name: 'đồng_bào_dân_tộc_thiểu_số'}) \\nCREATE (a)-[:bảo_đảm_ổn_định_cuộc_sống_cho]->(b)\", \"MATCH (a {name: 'cơ_quan_quản_lý_đất_đai_địa_phương'}) \\nMATCH(b {name: 'cấp_huyện'}) \\nCREATE (a)-[:đượcThànhLậpTại]->(b)\", \"MATCH (a {name: 'hoạt_động_liên_quan_đến_đất_đai'}) \\nMATCH(b {name: 'người_sử_dụng_đất'}) \\nCREATE (a)-[:liên_quan]->(b)\", \"MATCH (a {name: 'thừa_kế_quyền_sử_dụng_đất_ở'}) \\nMATCH(b {name: 'nhà_ở'}) \\nCREATE (a)-[:liên_quan_đến]->(b)\", \"MATCH (a {name: 'ủy_ban_nhân_dân_cấp_xã'}) \\nMATCH(b {name: 'ủy_ban_nhân_dân_cấp_huyện'}) \\nCREATE (a)-[:ràSoát]->(b)\", \"MATCH (a {name: 'Cộng_Đồng_Dân_Cư'}) \\nMATCH(b {name: 'ĐấtĐai'}) \\nCREATE (a)-[:nhậnThừaKế]->(b)\", \"MATCH (a {name: 'tổ_chức_kinh_tế'}) \\nMATCH(b {name: 'quyền_và_nghĩa_vụ'}) \\nCREATE (a)-[:có {theo_quy_định: 'Luật này'}]->(b)\", \"MATCH (a {name: 'cơ_quan_quản_lý_đất_đai_địa_phương'}) \\nMATCH(b {name: 'cấp_tỉnh'}) \\nCREATE (a)-[:đượcThànhLậpTại]->(b)\", \"MATCH (a {name: 'quản_lý_nhà_nước_về_đất_đai'}) \\nMATCH(b {name: 'đo_đạc'}) \\nCREATE (a)-[:baoGồm]->(b)\", \"MATCH (a {name: 'quyền_và_nghĩa_vụ_người_sử_dụng_đất'}) \\nMATCH(b {name: 'VănBảnPhápLuật'}) \\nCREATE (a)-[:liênQuanĐến]->(b)\", \"MATCH (a {name: 'phòng_hộ'}) \\nMATCH(b {name: 'đất_rừng_sản_xuất'}) \\nCREATE (a)-[:liênQuanĐến]->(b)\", \"MATCH (a {name: 'tổ_chức'}) \\nMATCH(b {name: 'người_sử_dụng_đất'}) \\nCREATE (a)-[:là]->(b)\", \"MATCH (a {name: 'nhà_nước'}) \\nMATCH(b {name: 'đất_rừng_sản_xuất'}) \\nCREATE (a)-[:thựcHiệnQuyềnĐạiDiệnChủSởHữu {thẩm_quyền: 'theo quy định của Luật'}]->(b)\", \"MATCH (a {name: 'ủy_ban_nhân_dân'}) \\nMATCH(b {name: 'đất_đai'}) \\nCREATE (a)-[:thựcHiệnNhiệmVụ]->(b)\", \"MATCH (a {name: 'nhà_nước'}) \\nMATCH(b {name: 'quyền_và_nghĩa_vụ_người_sử_dụng_đất'}) \\nCREATE (a)-[:thựcHiệnQuyềnĐạiDiệnChủSởHữuVềĐấtĐai]->(b)\", \"MATCH (a {name: 'đồng_bào_dân_tộc_thiểu_số'}) \\nMATCH(b {name: 'luật'}) \\nCREATE (a)-[:đượcQuyĐịnhTại]->(b)\", \"MATCH (a {name: 'Nhà_nước'}) \\nMATCH(b {name: 'quyền_sử_dụng_đất'}) \\nCREATE (a)-[:bảoHộ]->(b)\", \"MATCH (a {name: 'cung_cấp_thông_tin_đất_đai'}) \\nMATCH(b {name: 'pháp_luật'}) \\nCREATE (a)-[:liênQuanĐến]->(b)\", \"MATCH (a {name: 'văn_bản_pháp_luật'}) \\nMATCH(b {name: 'đất_đai'}) \\nCREATE (a)-[:liên_quan]->(b)\", \"MATCH (a {name: 'Bộ_Tài_nguyên_và_Môi_trường'}) \\nMATCH(b {name: 'Chính_phủ'}) \\nCREATE (a)-[:làCơQuanĐầuMốiGiúp]->(b)\", \"MATCH (a {name: 'luật'}) \\nMATCH(b {name: 'hội_đồng_nhân_dân'}) \\nCREATE (a)-[:đượcBanHànhBởi]->(b)\", \"MATCH (a {name: 'tổ_chức_phát_triển_quỹ_đất'}) \\nMATCH(b {name: 'Chính_phủ'}) \\nCREATE (a)-[:hoạt_động_theo]->(b)\", \"MATCH (a {name: 'văn_bản_pháp_luật'}) \\nMATCH(b {name: 'cơ_quan_nhà_nước'}) \\nCREATE (a)-[:liên_quan]->(b)\", \"MATCH (a {name: 'người_sử_dụng_đất'}) \\nMATCH(b {name: 'tranh_chấp_đất_đai'}) \\nCREATE (a)-[:thamGiaHòaGiải]->(b)\", \"MATCH (a {name: 'văn_bản_chính_sách_hỗ_trợ_đất_đai'}) \\nMATCH(b {name: 'vùng_đồng_bào_dân_tộc_thiểu_số_và_miền_núi'}) \\nCREATE (a)-[:liênQuanĐến]->(b)\", \"MATCH (a {name: 'Cá_Nhân'}) \\nMATCH(b {name: 'ĐấtĐai'}) \\nCREATE (a)-[:nhậnTặng]->(b)\", \"MATCH (a {name: 'ủy_ban_nhân_dân'}) \\nMATCH(b {name: 'nhà_nước'}) \\nCREATE (a)-[:thựcHiệnQuyềnĐạiDiệnChủSởHữu {thẩm_quyền: 'theo quy định của Luật'}]->(b)\", \"MATCH (a {name: 'thừa_kế_quyền_sử_dụng_đất_ở'}) \\nMATCH(b {name: 'QuyềnVàNghĩaVụ'}) \\nCREATE (a)-[:liên_quan_đến]->(b)\", \"MATCH (a {name: 'tặng_cho_nhà_ở'}) \\nMATCH(b {name: 'quyền_sử_dụng_đất_ở'}) \\nCREATE (a)-[:liên_quan_đến]->(b)\", \"MATCH (a {name: 'quản_lý_nhà_nước_về_đất_đai'}) \\nMATCH(b {name: 'hợp_tác_quốc_tế'}) \\nCREATE (a)-[:baoGồm]->(b)\", \"MATCH (a {name: 'quản_lý_nhà_nước_về_đất_đai'}) \\nMATCH(b {name: 'xác_định_địa_giới'}) \\nCREATE (a)-[:baoGồm]->(b)\", \"MATCH (a {name: 'văn_bản_pháp_luật'}) \\nMATCH(b {name: 'hoạt_động_liên_quan_đến_đất_đai'}) \\nCREATE (a)-[:liên_quan]->(b)\", \"MATCH (a {name: 'hoạt_động_liên_quan_đến_đất_đai'}) \\nMATCH(b {name: 'đất_đai'}) \\nCREATE (a)-[:liênQuanĐến]->(b)\", \"MATCH (a {name: 'người_sử_dụng_đất'}) \\nMATCH(b {name: 'hướng_dẫn'}) \\nCREATE (a)-[:thực_hiện]->(b)\", \"MATCH (a {name: 'quản_lý_nhà_nước_về_đất_đai'}) \\nMATCH(b {name: 'bản_đồ_quy_hoạch_sử'}) \\nCREATE (a)-[:baoGồm]->(b)\", \"MATCH (a {name: 'quản_lý_nhà_nước_về_đất_đai'}) \\nMATCH(b {name: 'bản_đồ_hiện_trạng_sử_dụng_đất'}) \\nCREATE (a)-[:baoGồm]->(b)\", \"MATCH (a {name: 'chính_sách_quy_định'}) \\nMATCH(b {name: 'cơ_quan'}) \\nCREATE (a)-[:đượcThựcHiệnTại]->(b)\", \"MATCH (a {name: 'quyền_và_nghĩa_vụ_hỗ_trợ_đất_đai'}) \\nMATCH(b {name: 'hộ_nghèo'}) \\nCREATE (a)-[:đượcÁpDụngCho]->(b)\", \"MATCH (a {name: 'cung_cấp_thông_tin_đất_đai'}) \\nMATCH(b {name: 'hệ_thống_thông_tin_quốc_gia_về_đất_đai'}) \\nCREATE (a)-[:liênQuanĐến]->(b)\", \"MATCH (a {name: 'Nhà_nước'}) \\nMATCH(b {name: 'đất'}) \\nCREATE (a)-[:khôngThừaNhận]->(b)\", \"MATCH (a {name: 'quỹ_đất_thu_hồi'}) \\nMATCH(b {name: 'quỹ_đất'}) \\nCREATE (a)-[:thuộc]->(b)\", \"MATCH (a {name: 'Tổ_Chức_Trong_Nước'}) \\nMATCH(b {name: 'ĐấtĐai'}) \\nCREATE (a)-[:nhậnTặng]->(b)\", \"MATCH (a {name: 'Tổ_Chức_Trong_Nước'}) \\nMATCH(b {name: 'ĐấtĐai'}) \\nCREATE (a)-[:nhậnThừaKế]->(b)\", \"MATCH (a {name: 'đồng_bào_dân_tộc_thiểu_số'}) \\nMATCH(b {name: 'người_sử_dụng_đất'}) \\nCREATE (a)-[:thuộc]->(b)\", \"MATCH (a {name: 'tổ_chức_dịch_vụ_công'}) \\nMATCH(b {name: 'Chính_phủ'}) \\nCREATE (a)-[:hoạt_động_theo]->(b)\", \"MATCH (a {name: 'người_thừa_kế'}) \\nMATCH(b {name: 'tổ_chức_trong_nước'}) \\nCREATE (a)-[:thuộc]->(b)\", \"MATCH (a {name: 'người_sử_dụng_đất'}) \\nMATCH(b {name: 'cưỡng_chế_thu_hồi_đất'}) \\nCREATE (a)-[:thamGiaÝKiếnVề]->(b)\", \"MATCH (a {name: 'Cộng_Đồng_Dân_Cư'}) \\nMATCH(b {name: 'ĐấtĐai'}) \\nCREATE (a)-[:nhậnTặng]->(b)\", \"MATCH (a {name: 'chính_phủ'}) \\nMATCH(b {name: 'đất'}) \\nCREATE (a)-[:quyĐịnh]->(b)\", \"MATCH (a {name: 'Vốn_Đầu_Tư_Nước_Ngoài'}) \\nMATCH(b {name: 'ĐấtĐai'}) \\nCREATE (a)-[:nhậnChuyểnNhượng]->(b)\", \"MATCH (a {name: 'quỹ_đất'}) \\nMATCH(b {name: 'tổ_chức'}) \\nCREATE (a)-[:thuộc]->(b)\", \"MATCH (a {name: 'chính_phủ'}) \\nMATCH(b {name: 'đất_đai'}) \\nCREATE (a)-[:thựcHiệnQuảnLýNhàNướcVềĐấtĐai]->(b)\", \"MATCH (a {name: 'điều_18'}) \\nMATCH(b {name: 'nhà_nước_việt_nam_dân_chủ_cộng_hoà'}) \\nCREATE (a)-[:đượcThựcHiệnBởi]->(b)\", \"MATCH (a {name: 'quản_lý_nhà_nước_về_đất_đai'}) \\nMATCH(b {name: 'lập_bản_đồ_địa_chính'}) \\nCREATE (a)-[:baoGồm]->(b)\", \"MATCH (a {name: 'Luật'}) \\nMATCH(b {name: 'TiếpCậnThôngTin'}) \\nCREATE (a)-[:liênQuan]->(b)\", \"MATCH (a {name: 'quản_lý_nhà_nước_về_đất_đai'}) \\nMATCH(b {name: 'phát_triển_công_nghệ'}) \\nCREATE (a)-[:baoGồm]->(b)\", \"MATCH (a {name: 'luật'}) \\nMATCH(b {name: 'ủy_ban_nhân_dân_cấp_xã'}) \\nCREATE (a)-[:đượcBanHànhBởi]->(b)\", \"MATCH (a {name: 'NgườiSửDụngĐất'}) \\nMATCH(b {name: 'VănBảnPhápLuật'}) \\nCREATE (a)-[:có]->(b)\", \"MATCH (a {name: 'pháp_luật_về_đất_đai'}) \\nMATCH(b {name: 'dự_án_sử_dụng_đất'}) \\nCREATE (a)-[:liênQuanĐến]->(b)\", \"MATCH (a {name: 'ThủTụcHànhChínhVềĐấtĐai'}) \\nMATCH(b {name: 'ĐấtĐai'}) \\nCREATE (a)-[:thuộc]->(b)\", \"MATCH (a {name: 'nhà_nước'}) \\nMATCH(b {name: 'chính_sách_hỗ_trợ_đất_đai'}) \\nCREATE (a)-[:hỗ_trợ]->(b)\", \"MATCH (a {name: 'Luật'}) \\nMATCH(b {name: 'Chính_phủ'}) \\nCREATE (a)-[:quyĐịnh]->(b)\", \"MATCH (a {name: 'văn_bản_chính_sách_hỗ_trợ_đất_đai'}) \\nMATCH(b {name: 'quyền_và_nghĩa_vụ_hỗ_trợ_đất_đai'}) \\nCREATE (a)-[:liênQuanĐến]->(b)\", \"MATCH (a {name: 'nhà_nước_việt_nam_dân_chủ_cộng_hoà'}) \\nMATCH(b {name: 'nhà_nước_cộng_hòa_xã_hội_chủ_nghĩa_việt_nam'}) \\nCREATE (a)-[:đượcChínhSáchĐấtĐaiCủa]->(b)\", \"MATCH (a {name: 'thừa_kế_quyền_sử_dụng_đất_ở'}) \\nMATCH(b {name: 'thửa_đất'}) \\nCREATE (a)-[:liên_quan_đến]->(b)\", \"MATCH (a {name: 'người_sử_dụng_đất'}) \\nMATCH(b {name: 'quyền_và_nghĩa_vụ'}) \\nCREATE (a)-[:có]->(b)\", \"MATCH (a {name: 'chính_sách_quy_định'}) \\nMATCH(b {name: 'quỹ_đất'}) \\nCREATE (a)-[:đượcThựcHiệnTại]->(b)\", \"MATCH (a {name: 'quỹ_đất'}) \\nMATCH(b {name: 'cơ_quan'}) \\nCREATE (a)-[:thuộc]->(b)\", \"MATCH (a {name: 'pháp_luật_về_đất_đai'}) \\nMATCH(b {name: 'kế_hoạch_sử_dụng_đất_cùng_cấp'}) \\nCREATE (a)-[:liênQuanĐến]->(b)\", \"MATCH (a {name: 'quốc_hội'}) \\nMATCH(b {name: 'quyền_và_nghĩa_vụ_người_sử_dụng_đất'}) \\nCREATE (a)-[:thựcHiệnQuyềnĐạiDiệnChủSởHữuVềĐấtĐai]->(b)\", \"MATCH (a {name: 'người_thừa_kế'}) \\nMATCH(b {name: 'tổ_chức_tôn_giáo'}) \\nCREATE (a)-[:thuộc]->(b)\", \"MATCH (a {name: 'mặt_trận_tổ_quốc_việt_nam'}) \\nMATCH(b {name: 'vai_trò'}) \\nCREATE (a)-[:có]->(b)\", \"MATCH (a {name: 'cung_cấp_thông_tin_đất_đai'}) \\nMATCH(b {name: 'cá_nhân'}) \\nCREATE (a)-[:liênQuanĐến]->(b)\", \"MATCH (a {name: 'người_sử_dụng_đất'}) \\nMATCH(b {name: 'giám_sát_bảng_giá_đất'}) \\nCREATE (a)-[:thamGiaÝKiếnVề]->(b)\", \"MATCH (a {name: 'ủy_ban_nhân_dân_cấp_xã'}) \\nMATCH(b {name: 'luật_cán_bộ_công_chức'}) \\nCREATE (a)-[:cóCôngChứcLàmCôngTácĐịaChínhTheo]->(b)\", \"MATCH (a {name: 'công_chức_làm_công_tác_địa_chính'}) \\nMATCH(b {name: 'ủy_ban_nhân_dân_cấp_xã'}) \\nCREATE (a)-[:thuộc]->(b)\", \"MATCH (a {name: 'bồi_thường_hỗ_trợ_tái_định_cư'}) \\nMATCH(b {name: 'luật'}) \\nCREATE (a)-[:thuHồiĐấtTheo]->(b)\", \"MATCH (a {name: 'quản_lý_nhà_nước_về_đất_đai'}) \\nMATCH(b {name: 'tuyên_truyền_phổ_biến'}) \\nCREATE (a)-[:baoGồm]->(b)\", \"MATCH (a {name: 'quản_lý_nhà_nước_về_đất_đai'}) \\nMATCH(b {name: 'nghiên_cứu_khoa_học'}) \\nCREATE (a)-[:baoGồm]->(b)\", \"MATCH (a {name: 'hộ_nghèo'}) \\nMATCH(b {name: 'vùng_đồng_bào_dân_tộc_thiểu_số'}) \\nCREATE (a)-[:thuộc_diện {loại: 'vùng đồng bào dân tộc thiểu số'}]->(b)\", \"MATCH (a {name: 'văn_bản_chính_sách_hỗ_trợ_đất_đai'}) \\nMATCH(b {name: 'đất_đai'}) \\nCREATE (a)-[:liênQuanĐến]->(b)\", \"MATCH (a {name: 'dự_án_sử_dụng_đất'}) \\nMATCH(b {name: 'ủy_ban_nhân_dân_cùng_cấp'}) \\nCREATE (a)-[:do]->(b)\", \"MATCH (a {name: 'người_sử_dụng_đất'}) \\nMATCH(b {name: 'phương_án_bồi_thường'}) \\nCREATE (a)-[:thamGiaÝKiếnVề]->(b)\", \"MATCH (a {name: 'mặt_trận_tổ_quốc_việt_nam'}) \\nMATCH(b {name: 'trách_nhiệm'}) \\nCREATE (a)-[:có]->(b)\", \"MATCH (a {name: 'đồng_bào_dân_tộc_thiểu_số'}) \\nMATCH(b {name: 'hộ_cận_nghèo'}) \\nCREATE (a)-[:thuê_đất {quy_định: 'khoản 2'}]->(b)\", \"MATCH (a {name: 'ThôngTinĐấtĐaiKhác'}) \\nMATCH(b {name: 'ĐấtĐai'}) \\nCREATE (a)-[:thuộc]->(b)\", \"MATCH (a {name: 'tộc_thiểu'}) \\nMATCH(b {name: 'nhà_nước'}) \\nCREATE (a)-[:đượcGiaoĐấtTheo]->(b)\", \"MATCH (a {name: 'quản_lý_nhà_nước_về_đất_đai'}) \\nMATCH(b {name: 'chỉnh_lý'}) \\nCREATE (a)-[:baoGồm]->(b)\", \"MATCH (a {name: 'người_sử_dụng_đất'}) \\nMATCH(b {name: 'hỗ_trợ_tái_định_cư'}) \\nCREATE (a)-[:thamGiaÝKiếnVề]->(b)\", \"MATCH (a {name: 'nhà_nước'}) \\nMATCH(b {name: 'người_sử_dụng_đất'}) \\nCREATE (a)-[:thựcHiệnChínhSách {chính_sách: 'tạo điều kiện cho người trực tiếp sản xuất nông nghiệp không có đất sản xuất'}]->(b)\", \"MATCH (a {name: 'ủy_ban_trung_ương_mặt_trận_tổ_quốc_việt_nam'}) \\nMATCH(b {name: 'pháp_luật_về_đất_đai'}) \\nCREATE (a)-[:thamGiaXâyDựng]->(b)\", \"MATCH (a {name: 'bộ_tài_nguyên_môi_trường'}) \\nMATCH(b {name: 'đất_đai'}) \\nCREATE (a)-[:quảnLýNhàNướcVề {cấp: 'trung_ương'}]->(b)\", \"MATCH (a {name: 'nhà_nước'}) \\nMATCH(b {name: 'đồng_bào_dân_tộc_thiểu_số'}) \\nCREATE (a)-[:cóTráchNhiệmĐốiVới]->(b)\", \"MATCH (a {name: 'chủ_sở_hữu_đất_đai'}) \\nMATCH(b {name: 'nhà_nước'}) \\nCREATE (a)-[:là]->(b)\", \"MATCH (a {name: 'tổ_chức_dịch_vụ_công_đất_đai'}) \\nMATCH(b {name: 'đất_đai'}) \\nCREATE (a)-[:thuộc]->(b)\", \"MATCH (a {name: 'người_sử_dụng_đất'}) \\nMATCH(b {name: 'quyền_và_nghĩa_vụ'}) \\nCREATE (a)-[:thựcHiện]->(b)\", \"MATCH (a {name: 'VănBảnQuyPhạmPhápLuậtVềĐấtĐai'}) \\nMATCH(b {name: 'ĐấtĐai'}) \\nCREATE (a)-[:thuộc]->(b)\", \"MATCH (a {name: 'người_thừa_kế'}) \\nMATCH(b {name: 'cá_nhân'}) \\nCREATE (a)-[:thuộc]->(b)\", \"MATCH (a {name: 'hội_đồng_nhân_dân_cùng_cấp'}) \\nMATCH(b {name: 'chính_sách_địa_phương_về_đất_đai'}) \\nCREATE (a)-[:banHành]->(b)\", \"MATCH (a {name: 'Thủ_tướng_Chính_phủ'}) \\nMATCH(b {name: 'ĐấtĐai'}) \\nCREATE (a)-[:thựcHiệnNhiệmVụ]->(b)\", \"MATCH (a {name: 'cá_nhân'}) \\nMATCH(b {name: 'quyền_và_nghĩa_vụ'}) \\nCREATE (a)-[:có {theo_quy_định: 'Luật này'}]->(b)\", \"MATCH (a {name: 'cá_nhân'}) \\nMATCH(b {name: 'người_sử_dụng_đất'}) \\nCREATE (a)-[:là]->(b)\", \"MATCH (a {name: 'vùng_đồng_bào_dân_tộc_thiểu_số_và_miền_núi'}) \\nMATCH(b {name: 'văn_bản_chính_sách_hỗ_trợ_đất_đai'}) \\nCREATE (a)-[:đượcHỗTrợBởi]->(b)\", \"MATCH (a {name: 'nhân_dân_cấp_tỉnh'}) \\nMATCH(b {name: 'hội_đồng_nhân_dân_cùng_cấp'}) \\nCREATE (a)-[:trình]->(b)\", \"MATCH (a {name: 'văn_bản_pháp_luật'}) \\nMATCH(b {name: 'người_sử_dụng_đất'}) \\nCREATE (a)-[:liên_quan]->(b)\", \"MATCH (a {name: 'điều_28'}) \\nMATCH(b {name: 'tổ_chức_kinh_tế_vốn_đầu_tư_nước_ngoài'}) \\nCREATE (a)-[:NhậnQuyềnSửDụngĐất]->(b)\", \"MATCH (a {name: 'quyền_và_nghĩa_vụ'}) \\nMATCH(b {name: 'đất_đai'}) \\nCREATE (a)-[:liênQuanĐến]->(b)\", \"MATCH (a {name: 'quản_lý_nhà_nước_về_đất_đai'}) \\nMATCH(b {name: 'đào_tạo'}) \\nCREATE (a)-[:baoGồm]->(b)\", \"MATCH (a {name: 'thuê_mua_nhà_ở'}) \\nMATCH(b {name: 'quyền_sử_dụng_đất_ở'}) \\nCREATE (a)-[:liên_quan_đến]->(b)\", \"MATCH (a {name: 'ủy_ban_thường_vụ_quốc_hội'}) \\nMATCH(b {name: 'quyền_và_nghĩa_vụ_người_sử_dụng_đất'}) \\nCREATE (a)-[:thựcHiệnQuyềnĐạiDiệnChủSởHữuVềĐấtĐai]->(b)\", \"MATCH (a {name: 'đồng_bào_dân_tộc_thiểu_số'}) \\nMATCH(b {name: 'hộ_nghèo'}) \\nCREATE (a)-[:thuê_đất {quy_định: 'khoản 2'}]->(b)\", \"MATCH (a {name: 'NghĩaVụCủaCôngDânĐốiVớiĐấtĐai'}) \\nMATCH(b {name: 'CôngDân'}) \\nCREATE (a)-[:ápDụngCho]->(b)\", \"MATCH (a {name: 'cá_nhân'}) \\nMATCH(b {name: 'văn_bản_chính_sách_hỗ_trợ_đất_đai'}) \\nCREATE (a)-[:đượcHỗTrợBởi]->(b)\", \"MATCH (a {name: 'tặng_cho_nhà_ở'}) \\nMATCH(b {name: 'người_thừa_kế'}) \\nCREATE (a)-[:liên_quan_đến]->(b)\", \"MATCH (a {name: 'hằng_năm'}) \\nMATCH(b {name: 'ủy_ban_nhân_dân_cấp_xã'}) \\nCREATE (a)-[:thựcHiệnBởi]->(b)\", \"MATCH (a {name: 'Nhà_nước'}) \\nMATCH(b {name: 'tài_sản'}) \\nCREATE (a)-[:bảoHộ]->(b)\", \"MATCH (a {name: 'chính_sách_quy_định'}) \\nMATCH(b {name: 'tổ_chức'}) \\nCREATE (a)-[:đượcThựcHiệnTại]->(b)\", \"MATCH (a {name: 'ủy_ban_nhân_dân'}) \\nMATCH(b {name: 'cá_nhân'}) \\nCREATE (a)-[:thựcHiệnChínhSách]->(b)\", \"MATCH (a {name: 'luật'}) \\nMATCH(b {name: 'giám_sát_việc_thi_hành_pháp_luật_về_đất_đai'}) \\nCREATE (a)-[:liênQuanĐến]->(b)\", \"MATCH (a {name: 'người_sử_dụng_đất'}) \\nMATCH(b {name: 'hoạt_động_liên_quan_đến_đất_đai'}) \\nCREATE (a)-[:tham_gia]->(b)\", \"MATCH (a {name: 'người_thừa_kế'}) \\nMATCH(b {name: 'tổ_chức_tôn_giáo_trực_thuộc'}) \\nCREATE (a)-[:thuộc]->(b)\", \"MATCH (a {name: 'quản_lý_nhà_nước_về_đất_đai'}) \\nMATCH(b {name: 'giáo_dục'}) \\nCREATE (a)-[:baoGồm]->(b)\", \"MATCH (a {name: 'công_dân'}) \\nMATCH(b {name: 'đất_đai'}) \\nCREATE (a)-[:cóQuyền {quyền: 'tham gia'}]->(b)\", \"MATCH (a {name: 'nhóm_người_sử_dụng_đất'}) \\nMATCH(b {name: 'quyền_và_nghĩa_vụ'}) \\nCREATE (a)-[:thực_hiện {theo_quy_định: 'Luật này'}]->(b)\", \"MATCH (a {name: 'cung_cấp_thông_tin_đất_đai'}) \\nMATCH(b {name: 'tổ_chức'}) \\nCREATE (a)-[:liênQuanĐến]->(b)\", \"MATCH (a {name: 'chính_sách_địa_phương_về_đất_đai'}) \\nMATCH(b {name: 'đồng_bào_dân_tộc_thiểu_số'}) \\nCREATE (a)-[:đốiVới]->(b)\", \"MATCH (a {name: 'pháp_luật_về_đất_đai'}) \\nMATCH(b {name: 'dự_thảo_quy_hoạch'}) \\nCREATE (a)-[:liênQuanĐến]->(b)\", \"MATCH (a {name: 'hệ_thống_cơ_quan_quản_lý_đất_đai'}) \\nMATCH(b {name: 'địa_phương'}) \\nCREATE (a)-[:tổChứcTại]->(b)\", \"MATCH (a {name: 'nhóm_người_sử_dụng_đất'}) \\nMATCH(b {name: 'thực_hiện'}) \\nCREATE (a)-[:không_phân_chia {quyền_và_nghĩa_vụ: 'cùng_nhau_hoặc_ủy_quyền'}]->(b)\", \"MATCH (a {name: 'văn_bản_chính_sách_hỗ_trợ_đất_đai'}) \\nMATCH(b {name: 'cá_nhân'}) \\nCREATE (a)-[:liênQuanĐến]->(b)\", \"MATCH (a {name: 'quản_lý_nhà_nước_về_đất_đai'}) \\nMATCH(b {name: 'lập_quản_lý_hồ_sơ_địa_giới'}) \\nCREATE (a)-[:baoGồm]->(b)\", \"MATCH (a {name: 'bồi_thường_hỗ_trợ_tái_định_cư'}) \\nMATCH(b {name: 'luật'}) \\nCREATE (a)-[:thựcHiệnTheo]->(b)\", \"MATCH (a {name: 'điều_28'}) \\nMATCH(b {name: 'người_gốc_việt_nam_định_cư_ở_nước_ngoài'}) \\nCREATE (a)-[:NhậnQuyềnSửDụngĐất]->(b)\", \"MATCH (a {name: 'người_thừa_kế'}) \\nMATCH(b {name: 'cộng_đồng_dân_cư'}) \\nCREATE (a)-[:thuộc]->(b)\", \"MATCH (a {name: 'thuê_mua_nhà_ở'}) \\nMATCH(b {name: 'ĐấtĐai'}) \\nCREATE (a)-[:liên_quan_đến]->(b)\", \"MATCH (a {name: 'quyền_và_nghĩa_vụ_hỗ_trợ_đất_đai'}) \\nMATCH(b {name: 'cá_nhân'}) \\nCREATE (a)-[:đượcÁpDụngCho]->(b)\", \"MATCH (a {name: 'cung_cấp_thông_tin_đất_đai'}) \\nMATCH(b {name: 'người_sử_dụng_đất'}) \\nCREATE (a)-[:liênQuanĐến]->(b)\", \"MATCH (a {name: 'NgườiSửDụngĐất'}) \\nMATCH(b {name: 'QuyềnVàNghĩaVụ'}) \\nCREATE (a)-[:cóQuyền]->(b)\", \"MATCH (a {name: 'Chính_phủ'}) \\nMATCH(b {name: 'ĐấtĐai'}) \\nCREATE (a)-[:quảnLý]->(b)\", \"MATCH (a {name: 'đất_đai'}) \\nMATCH(b {name: 'vùng'}) \\nCREATE (a)-[:thuộc]->(b)\", \"MATCH (a {name: 'điều_28'}) \\nMATCH(b {name: 'tổ_chức_kinh_tế'}) \\nCREATE (a)-[:NhậnQuyềnSửDụngĐất]->(b)\", \"MATCH (a {name: 'luật'}) \\nMATCH(b {name: 'đất_rừng_sản_xuất'}) \\nCREATE (a)-[:liênQuanĐến]->(b)\", \"MATCH (a {name: 'nhà_nước'}) \\nMATCH(b {name: 'người_sử_dụng_đất'}) \\nCREATE (a)-[:thựcHiệnQuyềnĐạiDiệnChủSởHữu {thẩm_quyền: 'theo quy định của Luật'}]->(b)\", \"MATCH (a {name: 'ngân_sách_nhà_nước'}) \\nMATCH(b {name: 'đồng_bào_dân_tộc_thiểu_số'}) \\nCREATE (a)-[:đượcLiênQuanĐến]->(b)\", \"MATCH (a {name: 'hội_đồng_nhân_dân'}) \\nMATCH(b {name: 'đất_đai'}) \\nCREATE (a)-[:thựcHiệnNhiệmVụ]->(b)\", \"MATCH (a {name: 'tổ_chức_đăng_ký_đất_đai'}) \\nMATCH(b {name: 'Chính_phủ'}) \\nCREATE (a)-[:hoạt_động_theo]->(b)\", \"MATCH (a {name: 'ép_nhập_cảnh'}) \\nMATCH(b {name: 'Việt_Nam'}) \\nCREATE (a)-[:liên_quan_đến]->(b)\", \"MATCH (a {name: 'nhà_nước'}) \\nMATCH(b {name: 'đồng_bào_dân_tộc_thiểu_số'}) \\nCREATE (a)-[:giao {mục_đích: 'tổng diện tích đất'}]->(b)\", \"MATCH (a {name: 'Tổ_Chức_Kinh_Tế'}) \\nMATCH(b {name: 'ĐấtĐai'}) \\nCREATE (a)-[:nhậnGópVốn]->(b)\", \"MATCH (a {name: 'hộ_cận_nghèo'}) \\nMATCH(b {name: 'vùng_đồng_bào_dân_tộc_thiểu_số'}) \\nCREATE (a)-[:thuộc_diện {loại: 'vùng đồng bào dân tộc thiểu số'}]->(b)\", \"MATCH (a {name: 'ủy_ban_nhân_dân'}) \\nMATCH(b {name: 'dân_tộc_thiểu_số'}) \\nCREATE (a)-[:thựcHiệnChínhSách]->(b)\", \"MATCH (a {name: 'ủy_ban_nhân_dân'}) \\nMATCH(b {name: 'địa_phương'}) \\nCREATE (a)-[:quyếtĐịnh]->(b)\", \"MATCH (a {name: 'nhóm_người_sử_dụng_đất'}) \\nMATCH(b {name: 'quyền_sử_dụng_đất'}) \\nCREATE (a)-[:phân_chia {theo_phần: 'từng_thành_viên'}]->(b)\", \"MATCH (a {name: 'bồi_thường_hỗ_trợ_tái_định_cư'}) \\nMATCH(b {name: 'đồng_bào_dân_tộc_thiểu_số'}) \\nCREATE (a)-[:thuộcChínhSáchVề]->(b)\", \"MATCH (a {name: 'bồi_thường_hỗ_trợ_tái_định_cư'}) \\nMATCH(b {name: 'quyền_sở_hữu_tài_sản_gắn_liền_với_đất'}) \\nCREATE (a)-[:thuHồiĐấtTheo]->(b)\", \"MATCH (a {name: 'hội_đồng_nhân_dân'}) \\nMATCH(b {name: 'ủy_ban_nhân_dân_cấp_xã'}) \\nCREATE (a)-[:đượcBanHànhBởi]->(b)\", \"MATCH (a {name: 'chính_sách_địa_phương_về_đất_đai'}) \\nMATCH(b {name: 'đất_đai'}) \\nCREATE (a)-[:đốiVới]->(b)\", \"MATCH (a {name: 'Tổ_Chức_Kinh_Tế_Có_Vốn_Đầu_Tư_Nước_Ngoài'}) \\nMATCH(b {name: 'ĐấtĐai'}) \\nCREATE (a)-[:nhậnGópVốn]->(b)\", \"MATCH (a {name: 'người_sử_dụng_đất'}) \\nMATCH(b {name: 'thực_hiện_bảng_giá_đất'}) \\nCREATE (a)-[:thamGiaÝKiếnVề]->(b)\", \"MATCH (a {name: 'nhà_nước'}) \\nMATCH(b {name: 'văn_bản_pháp_luật'}) \\nCREATE (a)-[:cóThẩmQuyềnVề]->(b)\", \"MATCH (a {name: 'chính_phủ'}) \\nMATCH(b {name: 'nhà_nước'}) \\nCREATE (a)-[:thựcHiệnQuyềnĐạiDiệnChủSởHữu {thẩm_quyền: 'theo quy định của Luật'}]->(b)\", \"MATCH (a {name: 'tặng_cho_nhà_ở'}) \\nMATCH(b {name: 'HoạtĐộngLiênQuanĐếnĐấtĐai'}) \\nCREATE (a)-[:liên_quan_đến]->(b)\"}\n"
     ]
    }
   ],
   "source": [
    "print(set(rel_cyphers))"
   ]
  },
  {
   "cell_type": "code",
   "execution_count": 9,
   "id": "f12dc83d-9090-40e9-afb6-56ef14db8b9f",
   "metadata": {},
   "outputs": [],
   "source": [
    "from neo4j import GraphDatabase\n",
    "uri = \"neo4j+s://94b452c3.databases.neo4j.io\"\n",
    "user = \"neo4j\"\n",
    "password = \"r3vGHlBAZzm3dymZLBlLBk-RNFzR5xRlGIb-tSNQwvY\"\n",
    "driver = GraphDatabase.driver(uri, auth=(user, password))"
   ]
  },
  {
   "cell_type": "code",
   "execution_count": 10,
   "id": "4c6f9cfa-cf25-47e1-85b2-761b1d5dc7c1",
   "metadata": {},
   "outputs": [],
   "source": [
    "def execute_cypher_queries(tx, cypher_queries):\n",
    "    for query in cypher_queries:\n",
    "        tx.run(query)\n",
    "with driver.session() as session:\n",
    "    session.execute_write(execute_cypher_queries, list(set(node_cyphers)))\n",
    "    session.execute_write(execute_cypher_queries, list(set(rel_cyphers)))"
   ]
  },
  {
   "cell_type": "code",
   "execution_count": null,
   "id": "09f4ea85-a748-479e-af2b-70356b21ca64",
   "metadata": {},
   "outputs": [],
   "source": []
  }
 ],
 "metadata": {
  "kernelspec": {
   "display_name": "Python 3 (ipykernel)",
   "language": "python",
   "name": "python3"
  },
  "language_info": {
   "codemirror_mode": {
    "name": "ipython",
    "version": 3
   },
   "file_extension": ".py",
   "mimetype": "text/x-python",
   "name": "python",
   "nbconvert_exporter": "python",
   "pygments_lexer": "ipython3",
   "version": "3.12.2"
  }
 },
 "nbformat": 4,
 "nbformat_minor": 5
}
